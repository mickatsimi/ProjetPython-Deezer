{
  "cells": [
    {
      "cell_type": "markdown",
      "metadata": {
        "id": "view-in-github",
        "colab_type": "text"
      },
      "source": [
        "<a href=\"https://colab.research.google.com/github/mickatsimi/ProjetPython-Deezer/blob/main/ProjetPython.ipynb\" target=\"_parent\"><img src=\"https://colab.research.google.com/assets/colab-badge.svg\" alt=\"Open In Colab\"/></a>"
      ]
    },
    {
      "cell_type": "code",
      "source": [
        "INSTALLATION DE LA LIBRAIRIE NECESSAIRE AU BON FONCTIONNEMENT DU PROGRAMME"
      ],
      "metadata": {
        "id": "3oljeQTmRl8o"
      },
      "execution_count": null,
      "outputs": []
    },
    {
      "cell_type": "code",
      "execution_count": null,
      "metadata": {
        "id": "fWTHTn3ZJ5Y3"
      },
      "outputs": [],
      "source": [
        "pip install deezer-python"
      ]
    },
    {
      "cell_type": "code",
      "execution_count": 3,
      "metadata": {
        "id": "0Nv4TL6FLrr0"
      },
      "outputs": [],
      "source": [
        "import deezer as dp"
      ]
    },
    {
      "cell_type": "markdown",
      "source": [
        "ACCES VIA LES CODES DE CONNEXION A L'API DEEZER"
      ],
      "metadata": {
        "id": "D3mqSrArRx_W"
      }
    },
    {
      "cell_type": "code",
      "execution_count": 4,
      "metadata": {
        "id": "icDWNvReJybQ"
      },
      "outputs": [],
      "source": [
        "client = dp.Client(app_id='mickaeltsimi@yahoo.fr', app_secret='Mickael1')\n"
      ]
    },
    {
      "cell_type": "code",
      "source": [
        "nom_artiste=input(\"inserez le nom de l'artiste que vous souhaitez : \")\n",
        "artiste=client.get_artist(nom_artiste)\n",
        "print(artiste)"
      ],
      "metadata": {
        "id": "6GKMKBFISmZu"
      },
      "execution_count": null,
      "outputs": []
    },
    {
      "cell_type": "markdown",
      "source": [
        "TRAVAIL SUR ARTISTES"
      ],
      "metadata": {
        "id": "QV6czuNGAp3_"
      }
    },
    {
      "cell_type": "code",
      "source": [
        "albums_de_lartiste=artiste.get_albums()[0].get_tracks()\n",
        "print(albums_de_lartiste)"
      ],
      "metadata": {
        "id": "gvjm_Z_2TVO5"
      },
      "execution_count": null,
      "outputs": []
    },
    {
      "cell_type": "code",
      "execution_count": null,
      "metadata": {
        "id": "QNgvHEJAK7Vf"
      },
      "outputs": [],
      "source": [
        "\n",
        "for j in range(len(artiste.get_albums())):\n",
        "    \n",
        "    cpt=0\n",
        "    alb=artiste.get_albums()[j].get_tracks()\n",
        "    if len(alb)>1: #no single\n",
        "        for elt in range(len(alb)):\n",
        "            #print(alb[elt]) \n",
        "            if \"feat.\" in str(alb[elt]):\n",
        "                cpt+=1\n",
        "        print(\"nom album: \",artiste.get_albums()[j],\" nombre de feats: \",cpt,\" nombre de sons: \",len(alb))"
      ]
    },
    {
      "cell_type": "code",
      "execution_count": null,
      "metadata": {
        "id": "opUz1hS9l_j0"
      },
      "outputs": [],
      "source": [
        "nbr=artiste.get_albums()\n",
        "for i in range (len(nbr)):\n",
        "  somme =0\n",
        "  for j in range(len(nbr[i].get_tracks())):\n",
        "    if len(nbr[i].get_tracks())<2:\n",
        "      print(\"C'est un single\")\n",
        "    else:\n",
        "      \n",
        "      somme=somme+nbr[i].get_tracks()[j].duration\n",
        "  print(\"l'album\",nbr[i],\"dure\",(somme/60),\"minutes\")\n",
        "\n"
      ]
    },
    {
      "cell_type": "code",
      "source": [
        "a=input('choisissez votre artiste de départ : ')\n",
        "artiste=client.get_artist(a)\n",
        "for j in artiste.get_related():\n",
        "  print('------------------------')\n",
        "  print(j.name)\n",
        "  print('------------------------')\n",
        "  for i in range(5):\n",
        "    print(j.get_top()[i].title)"
      ],
      "metadata": {
        "id": "3jEOEIf8XDoj"
      },
      "execution_count": null,
      "outputs": []
    },
    {
      "cell_type": "markdown",
      "source": [
        "**TRAVAIL SUR PLAYLIST **"
      ],
      "metadata": {
        "id": "rPgdCzqYAf6z"
      }
    },
    {
      "cell_type": "markdown",
      "metadata": {
        "id": "WvsSi7WQsICp"
      },
      "source": [
        ""
      ]
    },
    {
      "cell_type": "code",
      "execution_count": 5,
      "metadata": {
        "id": "oClup2UPvjbh"
      },
      "outputs": [],
      "source": [
        "client2 = dp.Client(app_id='mickaeltsimi@yahoo.fr', app_secret='Mickael1')"
      ]
    },
    {
      "cell_type": "code",
      "execution_count": null,
      "metadata": {
        "id": "YN7mTPNxyxb5"
      },
      "outputs": [],
      "source": [
        "liste=[]\n",
        "id=1767932902\n",
        "for i in range(len(client2.get_playlist(id).get_tracks())):\n",
        "  liste.append(client2.get_playlist(id).get_tracks()[i].get_artist())\n",
        "  print(client2.get_playlist(id).get_tracks()[i].get_artist())\n"
      ]
    },
    {
      "cell_type": "markdown",
      "source": [
        "CREATION DE PLAYLIST EN LIEN AVEC LES ARTISTES DU TOP France 2021\n"
      ],
      "metadata": {
        "id": "a6ZSODnw7Z_v"
      }
    },
    {
      "cell_type": "code",
      "execution_count": null,
      "metadata": {
        "id": "pOEH4yDd3Zje"
      },
      "outputs": [],
      "source": [
        "l=[]\n",
        "for i in range(len(client2.get_playlist(id).get_tracks())):\n",
        "  print(client2.get_playlist(id).get_tracks()[i].get_artist())\n",
        "  print('Playlist Découverte')\n",
        "  for j in client2.get_playlist(id).get_tracks()[i].get_artist().get_related():\n",
        "    print('------------------------')\n",
        "    print(j.name)\n",
        "    print('------------------------')\n",
        "    for k in range(len(j.get_top())):\n",
        "      print(j.get_top()[k].title)\n",
        "      \n",
        "    \n",
        "    \n",
        "\n",
        "###print(len(client2.get_playlist(id).get_tracks()[i].get_artist().get_related()))\n"
      ]
    },
    {
      "cell_type": "markdown",
      "source": [
        "TOP 5 DES SONS DES ARTISTES DU TOP 25 FRANCE"
      ],
      "metadata": {
        "id": "_lNrWA027vce"
      }
    },
    {
      "cell_type": "code",
      "execution_count": null,
      "metadata": {
        "id": "Y78uu7afNMF9"
      },
      "outputs": [],
      "source": [
        "for i in range(len(client2.get_playlist(id).get_tracks())):\n",
        "  print(client2.get_playlist(id).get_tracks()[i].get_artist())\n",
        "  print(client2.get_playlist(id).get_tracks()[i].get_artist().get_top())"
      ]
    },
    {
      "cell_type": "markdown",
      "source": [
        "ALBUM LE PLUS Recent DES ARTISTES DU TOP 25"
      ],
      "metadata": {
        "id": "vZ5b3e_nASMq"
      }
    },
    {
      "cell_type": "code",
      "execution_count": null,
      "metadata": {
        "id": "hLv_OC-wNznm"
      },
      "outputs": [],
      "source": [
        "for i in range(len(client2.get_playlist(id).get_tracks())):\n",
        "  print(client2.get_playlist(id).get_tracks()[i].get_artist())\n",
        "  print(client2.get_playlist(id).get_tracks()[i].get_artist().get_albums()[0])\n",
        "  print(client2.get_playlist(id).get_tracks()[i].get_artist().get_albums()[0].release_date)"
      ]
    },
    {
      "cell_type": "markdown",
      "source": [
        "GENERATEUR DE PLAYLIST"
      ],
      "metadata": {
        "id": "UsujHabJXofA"
      }
    },
    {
      "cell_type": "code",
      "source": [
        "a=input('choisissez votre artiste de départ : ')\n",
        "artiste=client.get_artist(a)\n",
        "for j in artiste.get_related():\n",
        "  print('------------------------')\n",
        "  print(j.name)\n",
        "  print('------------------------')\n",
        "  for i in range(5):\n",
        "    print(j.get_top()[i].title)"
      ],
      "metadata": {
        "id": "pJfNEpr2XtUo"
      },
      "execution_count": null,
      "outputs": []
    }
  ],
  "metadata": {
    "colab": {
      "collapsed_sections": [],
      "name": "ProjetPython.ipynb",
      "provenance": [],
      "include_colab_link": true
    },
    "kernelspec": {
      "display_name": "Python 3",
      "name": "python3"
    },
    "language_info": {
      "name": "python"
    }
  },
  "nbformat": 4,
  "nbformat_minor": 0
}